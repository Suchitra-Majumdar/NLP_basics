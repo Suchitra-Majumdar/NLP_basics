{
 "cells": [
  {
   "cell_type": "code",
   "execution_count": 1,
   "id": "060748db",
   "metadata": {},
   "outputs": [],
   "source": [
    "## TFIDF"
   ]
  },
  {
   "cell_type": "markdown",
   "id": "c45a4418",
   "metadata": {},
   "source": [
    "Term Frequency: Measures how frequently a term appears in a document.\n",
    "\n",
    "Calculated as the ratio of the number of times a term occurs in a document to the total number of terms in that document.\n",
    "\n",
    "Higher TF values indicate that a term appears more frequently in a particular document."
   ]
  },
  {
   "cell_type": "markdown",
   "id": "dd8eae6a",
   "metadata": {},
   "source": [
    "Inverse Document Frequency (IDF):\n",
    "\n",
    "Measures how important a term is across the entire collection of documents.\n",
    "\n",
    "Calculated as the logarithm of the ratio of the total number of documents to the number of documents containing the term.\n",
    "\n",
    "Higher IDF values indicate that a term is less common across the document collection."
   ]
  },
  {
   "cell_type": "code",
   "execution_count": 3,
   "id": "fc244c47",
   "metadata": {},
   "outputs": [
    {
     "name": "stdout",
     "output_type": "stream",
     "text": [
      "['age', 'best', 'foolishness', 'it', 'of', 'the', 'times', 'was', 'wisdom', 'worst']\n",
      "[1.51082562 1.91629073 1.91629073 1.         1.         1.\n",
      " 1.51082562 1.         1.91629073 1.91629073]\n"
     ]
    }
   ],
   "source": [
    "from sklearn.feature_extraction.text import TfidfVectorizer\n",
    "# list of text documents\n",
    "text = [\"It was the best of times\", \"it was the worst of times\", \"it was the age of wisdom\", \"it was the age of foolishness\"]\n",
    "# create the transform\n",
    "vectorizer = TfidfVectorizer()\n",
    "# tokenize and build vocab\n",
    "vectorizer.fit(text)\n",
    "# summarize\n",
    "print(sorted(vectorizer.vocabulary_))\n",
    "# encode document\n",
    "vector = vectorizer.transform([text[0]])\n",
    "\n",
    "print(vectorizer.idf_)"
   ]
  },
  {
   "cell_type": "code",
   "execution_count": null,
   "id": "a93893cc",
   "metadata": {},
   "outputs": [],
   "source": []
  }
 ],
 "metadata": {
  "kernelspec": {
   "display_name": "Python 3 (ipykernel)",
   "language": "python",
   "name": "python3"
  },
  "language_info": {
   "codemirror_mode": {
    "name": "ipython",
    "version": 3
   },
   "file_extension": ".py",
   "mimetype": "text/x-python",
   "name": "python",
   "nbconvert_exporter": "python",
   "pygments_lexer": "ipython3",
   "version": "3.11.5"
  }
 },
 "nbformat": 4,
 "nbformat_minor": 5
}
