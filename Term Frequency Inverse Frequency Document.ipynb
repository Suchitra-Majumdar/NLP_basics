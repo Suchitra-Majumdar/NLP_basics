{
 "cells": [
  {
   "cell_type": "code",
   "execution_count": 1,
   "id": "060748db",
   "metadata": {},
   "outputs": [],
   "source": [
    "## TFIDF"
   ]
  },
  {
   "cell_type": "markdown",
   "id": "c45a4418",
   "metadata": {},
   "source": [
    "Term Frequency: Measures how frequently a term appears in a document.\n",
    "\n",
    "Calculated as the ratio of the number of times a term occurs in a document to the total number of terms in that document.\n",
    "\n",
    "Higher TF values indicate that a term appears more frequently in a particular document."
   ]
  },
  {
   "cell_type": "markdown",
   "id": "dd8eae6a",
   "metadata": {},
   "source": [
    "Inverse Document Frequency (IDF):\n",
    "\n",
    "Measures how important a term is across the entire collection of documents.\n",
    "\n",
    "Calculated as the logarithm of the ratio of the total number of documents to the number of documents containing the term.\n",
    "\n",
    "Higher IDF values indicate that a term is less common across the document collection."
   ]
  },
  {
   "cell_type": "code",
   "execution_count": 4,
   "id": "fc244c47",
   "metadata": {},
   "outputs": [
    {
     "name": "stdout",
     "output_type": "stream",
     "text": [
      "['age', 'best', 'foolishness', 'it', 'of', 'the', 'times', 'was', 'wisdom', 'worst']\n"
     ]
    }
   ],
   "source": [
    "from sklearn.feature_extraction.text import TfidfVectorizer\n",
    "# list of text documents\n",
    "text = [\"It was the best of times\", \"it was the worst of times\", \"it was the age of wisdom\", \"it was the age of foolishness\"]\n",
    "# create the transform\n",
    "vectorizer = TfidfVectorizer()\n",
    "# tokenize and build vocab\n",
    "vectorizer.fit(text)\n",
    "# summarize\n",
    "print(sorted(vectorizer.vocabulary_))\n",
    "# encode document\n",
    "vector = vectorizer.transform([text[0]])\n"
   ]
  },
  {
   "cell_type": "code",
   "execution_count": 5,
   "id": "0e63f670",
   "metadata": {},
   "outputs": [
    {
     "name": "stdout",
     "output_type": "stream",
     "text": [
      "[1.51082562 1.91629073 1.91629073 1.         1.         1.\n",
      " 1.51082562 1.         1.91629073 1.91629073]\n"
     ]
    }
   ],
   "source": [
    "\n",
    "print(vectorizer.idf_)"
   ]
  },
  {
   "cell_type": "markdown",
   "id": "fd6d5ab3",
   "metadata": {},
   "source": [
    "A vocabulary of 10 words is learned from the documents and each word is assigned a unique integer index in the output vector. The inverse document frequencies are calculated for each word in the vocabulary, assigning the lowest score of 1.0 to the most frequently observed words: \"it\", \"of\", \"the\" , \"was\"."
   ]
  },
  {
   "cell_type": "code",
   "execution_count": 6,
   "id": "cca72516",
   "metadata": {},
   "outputs": [
    {
     "name": "stdout",
     "output_type": "stream",
     "text": [
      "(1, 10)\n",
      "[[0.         0.60735961 0.         0.31694544 0.31694544 0.31694544\n",
      "  0.4788493  0.31694544 0.         0.        ]]\n"
     ]
    }
   ],
   "source": [
    "# summarize encoded vector\n",
    "print(vector.shape)\n",
    "print(vector.toarray())                                                                                                                                                                                                                                                                                                                                                     "
   ]
  },
  {
   "cell_type": "markdown",
   "id": "19dad13d",
   "metadata": {},
   "source": [
    "The scores are normalized to values between 0 and 1 and the encoded document vectors can then be used directly with most machine learning algorithms."
   ]
  },
  {
   "cell_type": "code",
   "execution_count": null,
   "id": "9136fff8",
   "metadata": {},
   "outputs": [],
   "source": []
  }
 ],
 "metadata": {
  "kernelspec": {
   "display_name": "Python 3 (ipykernel)",
   "language": "python",
   "name": "python3"
  },
  "language_info": {
   "codemirror_mode": {
    "name": "ipython",
    "version": 3
   },
   "file_extension": ".py",
   "mimetype": "text/x-python",
   "name": "python",
   "nbconvert_exporter": "python",
   "pygments_lexer": "ipython3",
   "version": "3.11.5"
  }
 },
 "nbformat": 4,
 "nbformat_minor": 5
}
